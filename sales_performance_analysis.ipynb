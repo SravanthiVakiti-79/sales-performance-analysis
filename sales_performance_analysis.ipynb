{
 "cells": [
  {
   "cell_type": "code",
   "execution_count": 1,
   "id": "66848845-6e9e-42cd-ae92-0248160eea3a",
   "metadata": {},
   "outputs": [],
   "source": [
    "import pandas as pd\n",
    "import numpy as np\n"
   ]
  },
  {
   "cell_type": "code",
   "execution_count": 2,
   "id": "4809813f-a3d7-4aa4-ac63-35da49788f18",
   "metadata": {},
   "outputs": [
    {
     "name": "stdout",
     "output_type": "stream",
     "text": [
      "  OrderID        Date   Product     Category Region    Sales  Quantity  \\\n",
      "0   O1001  2025-04-26  Keyboard  Accessories   West  1569.42         3   \n",
      "1   O1002  2025-01-19     Mouse  Accessories  North    35.30         2   \n",
      "2   O1003  2025-04-08     Mouse  Accessories   West  1388.70         5   \n",
      "3   O1004  2025-01-07   Monitor  Electronics   East  6304.65         5   \n",
      "4   O1005  2025-04-18     Chair    Furniture  North   206.18         2   \n",
      "\n",
      "    Profit  \n",
      "0   107.86  \n",
      "1     4.61  \n",
      "2   236.41  \n",
      "3  1161.71  \n",
      "4    22.24  \n"
     ]
    }
   ],
   "source": [
    "df = pd.read_excel(\"sales_data_large.xlsx\")\n",
    "print(df.head())  # show first 5 rows\n"
   ]
  },
  {
   "cell_type": "code",
   "execution_count": 3,
   "id": "c385aee0-45ae-4e7b-949d-32f821d9e4e6",
   "metadata": {},
   "outputs": [
    {
     "name": "stdout",
     "output_type": "stream",
     "text": [
      "Total Sales: 65346.28999999999\n",
      "Average Profit: 271.4723333333334\n",
      "Total Quantity Sold: 94\n",
      "Maximum Sale: 6304.65\n",
      "Minimum Sale: 35.3\n"
     ]
    }
   ],
   "source": [
    "# Total Sales\n",
    "total_sales = np.sum(df['Sales'])\n",
    "\n",
    "# Average Profit\n",
    "avg_profit = np.mean(df['Profit'])\n",
    "\n",
    "# Total Quantity\n",
    "total_quantity = np.sum(df['Quantity'])\n",
    "\n",
    "# Max and Min Sales\n",
    "max_sale = np.max(df['Sales'])\n",
    "min_sale = np.min(df['Sales'])\n",
    "\n",
    "# Print results\n",
    "print(\"Total Sales:\", total_sales)\n",
    "print(\"Average Profit:\", avg_profit)\n",
    "print(\"Total Quantity Sold:\", total_quantity)\n",
    "print(\"Maximum Sale:\", max_sale)\n",
    "print(\"Minimum Sale:\", min_sale)\n"
   ]
  },
  {
   "cell_type": "code",
   "execution_count": null,
   "id": "7b42d6df-d03f-4133-af8b-159ab8af430c",
   "metadata": {},
   "outputs": [],
   "source": []
  }
 ],
 "metadata": {
  "kernelspec": {
   "display_name": "Python 3 (ipykernel)",
   "language": "python",
   "name": "python3"
  },
  "language_info": {
   "codemirror_mode": {
    "name": "ipython",
    "version": 3
   },
   "file_extension": ".py",
   "mimetype": "text/x-python",
   "name": "python",
   "nbconvert_exporter": "python",
   "pygments_lexer": "ipython3",
   "version": "3.10.0"
  }
 },
 "nbformat": 4,
 "nbformat_minor": 5
}
